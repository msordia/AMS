{
  "nbformat": 4,
  "nbformat_minor": 0,
  "metadata": {
    "colab": {
      "provenance": [],
      "authorship_tag": "ABX9TyPmLU4NjON8bBcR5PH4EbW8",
      "include_colab_link": true
    },
    "kernelspec": {
      "name": "python3",
      "display_name": "Python 3"
    },
    "language_info": {
      "name": "python"
    }
  },
  "cells": [
    {
      "cell_type": "markdown",
      "metadata": {
        "id": "view-in-github",
        "colab_type": "text"
      },
      "source": [
        "<a href=\"https://colab.research.google.com/github/msordia/AMS/blob/master/nearest_neighbor.ipynb\" target=\"_parent\"><img src=\"https://colab.research.google.com/assets/colab-badge.svg\" alt=\"Open In Colab\"/></a>"
      ]
    },
    {
      "cell_type": "code",
      "source": [
        "import torch"
      ],
      "metadata": {
        "id": "IbxG4esViDQ7"
      },
      "execution_count": 9,
      "outputs": []
    },
    {
      "cell_type": "code",
      "source": [
        "\n"
      ],
      "metadata": {
        "id": "FX0Avlw8f4Ls"
      },
      "execution_count": 28,
      "outputs": []
    },
    {
      "cell_type": "code",
      "source": [
        "# A class to perform nearest neighbor classification.\n",
        "class NearestNeighborClassifier:\n",
        "\n",
        "  # Store the data and labels to be used for nearest neighbor classification.\n",
        "  # Args:\n",
        "  #        x: list of lists of floats, data\n",
        "  #        y: list of floats, labels\n",
        "  def __init__(self, x: list[list[float]], y: list[float]):\n",
        "    self.data, self.label = self.make_data(x, y)\n",
        "    #self.data_mean, self.data_std = self.compute_data_statistics(self.data)\n",
        "    #self.data_normalized = self.input_normalization(self.data)\n",
        "\n",
        "  # Warmup: Convert the data into PyTorch tensors\n",
        "  # Assumptions:\n",
        "  # - len(x) == len(y)\n",
        "  # Args:\n",
        "  #        x: list of lists of floats, data\n",
        "  #        y: list of floats, labels\n",
        "  # Returns:\n",
        "  #        tuple of x and y both torch.Tensor's.\n",
        "  def make_data(cls, x: list[list[float]], y: list[float]) -> tuple[torch.Tensor, torch.Tensor]:\n",
        "    return torch.tensor(x), torch.tensor(y)\n",
        "\n",
        "    raise NotImplementedError\n",
        "\n",
        "  # Compute the mean and standard deviation of the data.\n",
        "  # Each row denotes a single data point.}\n",
        "  # Args:\n",
        "  #         x: 2D tensor data shape = [N, D]\n",
        "  def compute_data_statistics(cls, x: torch.Tensor) -> tuple[torch.Tensor, torch.Tensor]:\n",
        "        \"\"\"\n",
        "\n",
        "\n",
        "\n",
        "\n",
        "        Returns:\n",
        "            tuple of mean and standard deviation of the data.\n",
        "            Both should have a shape [1, D]\n",
        "        \"\"\"\n",
        "        raise NotImplementedError\n",
        "\n",
        "x = [[1.0, 2.0, 3.0], [4.0, 5.0, 6.0], [7.0, 8.0, 9.0]]\n",
        "y = [3., 8., 4.]\n",
        "classifier = NearestNeighborClassifier(x, y)\n",
        "classifier.data, classifier.label = classifier.make_data(x, y)\n",
        "print(classifier.data)\n",
        "print(classifier.label)\n"
      ],
      "metadata": {
        "colab": {
          "base_uri": "https://localhost:8080/"
        },
        "id": "DiQTR1KVeWg0",
        "outputId": "305efc03-a49e-492d-b9fb-05d78d53789d"
      },
      "execution_count": 37,
      "outputs": [
        {
          "output_type": "stream",
          "name": "stdout",
          "text": [
            "tensor([[1., 2., 3.],\n",
            "        [4., 5., 6.],\n",
            "        [7., 8., 9.]])\n",
            "tensor([3., 8., 4.])\n"
          ]
        }
      ]
    },
    {
      "cell_type": "code",
      "source": [
        "# prompt: create a list of list with integers\n",
        "\n",
        "import torch\n",
        "\n",
        "class NearestNeighborClassifier:\n",
        "  # Store the data and labels to be used for nearest neighbor classification.\n",
        "  # Args:\n",
        "  #        x: list of lists of floats, data\n",
        "  #        y: list of floats, labels\n",
        "\n",
        "  def __init__(self, x: list[list[float]], y: list[float]):\n",
        "    self.data, self.label = self.make_data(x, y)\n",
        "    #self.data_mean, self.data_std = self.compute_data_statistics(self.data)\n",
        "    #self.data_normalized = self.input_normalization(self.data)\n",
        "\n",
        "  # Store the data and labels to be used for nearest neighbor classification.\n",
        "  # #Convert the data into PyTorch tensors\n",
        "  # Args:\n",
        "  #        x: list of lists of floats, data\n",
        "  #        y: list of floats, labels\n",
        "\n",
        "  def make_data(self, x: list[list[float]], y: list[float]) -> tuple[torch.Tensor, torch.Tensor]:\n",
        "    return torch.tensor(x), torch.tensor(y)\n",
        "\n",
        "  #def compute_data_statistics(self, data):\n",
        "    # Calculate mean and standard deviation of each feature\n",
        "    data_mean = torch.mean(data, dim=0)\n",
        "    data_std = torch.std(data, dim=0)\n",
        "    return data_mean, data_std\n",
        "\n",
        "  #def input_normalization(self, data):\n",
        "    # Normalize the input data using the calculated mean and standard deviation\n",
        "    #normalized_data = (data - self.data_mean) / self.data_std\n",
        "  #  return normalized_data\n",
        "\n",
        "# Example usage\n",
        "x = [[1, 2, 3], [4, 5, 6], [7, 8, 9]]\n",
        "y = [0, 1, 0]\n",
        "classifier = NearestNeighborClassifier(x, y)\n",
        "\n",
        "print(\"Data tensor:\", classifier.data)\n",
        "print(\"Label tensor:\", classifier.label)\n",
        "#print(\"Data mean:\", classifier.data_mean)\n",
        "#print(\"Data std:\", classifier.data_std)\n",
        "#print(\"Normalized data:\", classifier.data_normalized)"
      ],
      "metadata": {
        "colab": {
          "base_uri": "https://localhost:8080/"
        },
        "id": "J7yn9JKFjU1C",
        "outputId": "632c87f0-0124-4c8b-cf8c-5ce7317ff35c"
      },
      "execution_count": 26,
      "outputs": [
        {
          "output_type": "stream",
          "name": "stdout",
          "text": [
            "Data tensor: tensor([[1, 2, 3],\n",
            "        [4, 5, 6],\n",
            "        [7, 8, 9]])\n",
            "Label tensor: tensor([0, 1, 0])\n"
          ]
        }
      ]
    }
  ]
}